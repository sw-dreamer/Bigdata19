{
 "cells": [
  {
   "cell_type": "code",
   "execution_count": 7,
   "metadata": {},
   "outputs": [
    {
     "name": "stdout",
     "output_type": "stream",
     "text": [
      "arr1 : [1 2 3 4 5]\n",
      "arr2 : [[1 2 3]\n",
      " [4 5 6]]\n",
      "arr3 : [[[1 2]\n",
      "  [3 4]\n",
      "  [5 6]\n",
      "  [7 8]]]\n"
     ]
    }
   ],
   "source": [
    "import numpy as np\n",
    "\n",
    "# 주요 기능 및 예제\n",
    "\n",
    "# 배열 생성 (np.array())\n",
    "# 1차원 배열 생성\n",
    "arr1 = np.array([1,2,3,4,5])\n",
    "\n",
    "print(f'arr1 : {arr1}')\n",
    "\n",
    "# 2차원 배열 생성\n",
    "arr2 = np.array([\n",
    "    [1,2,3]\n",
    "    ,[4,5,6]\n",
    "])\n",
    "print(f'arr2 : {arr2}')\n",
    "\n",
    "# 3차원 배열 생성\n",
    "\n",
    "arr3 =np.array(\n",
    "    [\n",
    "        [\n",
    "            [1,2]\n",
    "            ,[3,4]\n",
    "            ,[5,6]\n",
    "            ,[7,8]\n",
    "        ]\n",
    "    ]\n",
    ")\n",
    "print(f'arr3 : {arr3}')"
   ]
  },
  {
   "cell_type": "code",
   "execution_count": null,
   "metadata": {},
   "outputs": [
    {
     "name": "stdout",
     "output_type": "stream",
     "text": [
      "==================================================\n",
      "arr1 배열의 차원 : 1\n",
      "arr2 배열의 차원 : 2\n",
      "arr3 배열의 차원 : 3\n",
      "==================================================\n",
      "arr1 배열의 크기 : (5,)\n",
      "arr2 배열의 크기 : (2, 3)\n",
      "arr3 배열의 크기 : (1, 4, 2)\n",
      "==================================================\n",
      "arr1 배열의 원소 개수 : 5\n",
      "arr2 배열의 원소 개수 : 6\n",
      "arr3 배열의 원소 개수 : 8\n",
      "==================================================\n",
      "arr1 배열의 데이터 타입 : int32\n",
      "arr2 배열의 데이터 타입 : int32\n",
      "arr3 배열의 데이터 타입 : int32\n"
     ]
    }
   ],
   "source": [
    "import numpy as np\n",
    "\n",
    "# 주요 기능 및 예제\n",
    "\n",
    "# 배열 생성 (np.array())\n",
    "# 1차원 배열 생성\n",
    "arr1 = np.array([1,2,3,4,5])\n",
    "\n",
    "# 2차원 배열 생성\n",
    "arr2 = np.array([\n",
    "    [1,2,3]\n",
    "    ,[4,5,6]\n",
    "])\n",
    "\n",
    "\n",
    "# 3차원 배열 생성\n",
    "\n",
    "arr3 =np.array(\n",
    "    [\n",
    "        [\n",
    "            [1,2]\n",
    "            ,[3,4]\n",
    "            ,[5,6]\n",
    "            ,[7,8]\n",
    "        ]\n",
    "    ]\n",
    ")\n",
    "print('='*50)\n",
    "\n",
    "print(f'arr1 배열의 차원 : {arr1.ndim}')\n",
    "print(f'arr2 배열의 차원 : {arr2.ndim}')\n",
    "print(f'arr3 배열의 차원 : {arr3.ndim}')\n",
    "print('='*50)\n",
    "print(f'arr1 배열의 크기 : {arr1.shape}')\n",
    "print(f'arr2 배열의 크기 : {arr2.shape}')\n",
    "print(f'arr3 배열의 크기 : {arr3.shape}')\n",
    "\n",
    "print('='*50)\n",
    "\n",
    "print(f'arr1 배열의 원소 개수 : {arr1.size}')\n",
    "print(f'arr2 배열의 원소 개수 : {arr2.size}')\n",
    "print(f'arr3 배열의 원소 개수 : {arr3.size}')\n",
    "\n",
    "print('='*50)\n",
    "\n",
    "print(f'arr1 배열의 데이터 타입 : {arr1.dtype}')\n",
    "print(f'arr2 배열의 데이터 타입 : {arr2.dtype}')\n",
    "print(f'arr3 배열의 데이터 타입 : {arr3.dtype}') # ndarray는 동일타입만 저장 할 수 있다"
   ]
  },
  {
   "cell_type": "code",
   "execution_count": null,
   "metadata": {},
   "outputs": [
    {
     "name": "stdout",
     "output_type": "stream",
     "text": [
      "[[0. 0. 0.]\n",
      " [0. 0. 0.]\n",
      " [0. 0. 0.]]\n",
      "==================================================\n",
      "[[1. 1. 1.]\n",
      " [1. 1. 1.]\n",
      " [1. 1. 1.]]\n",
      "==================================================\n",
      "[[5 5]\n",
      " [5 5]]\n",
      "==================================================\n",
      "[1 3 5 7 9]\n",
      "==================================================\n",
      "[  0.  25.  50.  75. 100.]\n"
     ]
    }
   ],
   "source": [
    "import numpy as np\n",
    "# 특정값을 갖는 배열 생성\n",
    "# 0값을 갖는 배열 : np.zeros((행,열))\n",
    "zeroes_ =np.zeros(\n",
    "    (3,3)\n",
    ")\n",
    "print(zeroes_)\n",
    "print('='*50)\n",
    "# 1값을 갖는 배열 : np.ones((행,열))\n",
    "ones_ =np.ones(\n",
    "    (3,3)\n",
    ")\n",
    "print(ones_)\n",
    "print('='*50)\n",
    "# 특정값으로 채운 배열 : np.full((행,열),특정값)\n",
    "\n",
    "full=np.full((2,2),5)\n",
    "print(full)\n",
    "\n",
    "print('='*50)\n",
    "# 연속된 숫자로 채운 배열 생성 : np.arange(start,end, stop)\n",
    "arr4=np.arange(1,10,2)\n",
    "print(arr4)\n",
    "print('='*50)\n",
    "\n",
    "# np.linspace(start,end,count)\n",
    "lin_arr=np.linspace(0,100,5) # 0~100 사이에서 5개 값으로 생성\n",
    "print(lin_arr)"
   ]
  },
  {
   "cell_type": "code",
   "execution_count": 27,
   "metadata": {},
   "outputs": [
    {
     "name": "stdout",
     "output_type": "stream",
     "text": [
      "[[0.37454012 0.95071431 0.73199394]\n",
      " [0.59865848 0.15601864 0.15599452]]\n",
      "[[ 1.57921282  0.76743473]\n",
      " [-0.46947439  0.54256004]]\n",
      "[[5 1 6 9]\n",
      " [1 3 7 4]\n",
      " [9 3 5 3]]\n"
     ]
    }
   ],
   "source": [
    "import numpy as np\n",
    "\n",
    "# 난수 배열 생성\n",
    "\n",
    "# numpy의 random모듈을 사용하면 다양한 난수 배열을 생성 할 수 있다.\n",
    "\n",
    "# np.random.rand(행,열) : 0~1사이의 난수를 가진 배열 생성\n",
    "np.random.seed(42) # seed에 의해 rand 값이 바뀔수도 있고 안 바뀔수도 있다\n",
    "\n",
    "rand_arr = np.random.rand(2,3)\n",
    "print(rand_arr)\n",
    "\n",
    "# 정규분포를 따르는 난수 배열 생성 : np.random.randn(행,열)\n",
    "randn_arr=np.random.randn(2,2)\n",
    "print(randn_arr)\n",
    "\n",
    "# 특정 범위의 정수 난수 배열 생성 : np.random.randint(start,ent,[(행,열)])\n",
    "randint_arr= np.random.randint(1,10,[3,4])\n",
    "print(randint_arr)"
   ]
  },
  {
   "cell_type": "code",
   "execution_count": 30,
   "metadata": {},
   "outputs": [
    {
     "name": "stdout",
     "output_type": "stream",
     "text": [
      "덧셈 : [5 7 9]\n",
      "뺄셈 : [-3 -3 -3]\n",
      "곱셈 : [ 4 10 18]\n",
      "제곱 : [  1  32 729]\n"
     ]
    }
   ],
   "source": [
    "import numpy as np\n",
    "\n",
    "# 배열 연산(더하기, 빼기, 곱셈, 나눗셈, 제곱)\n",
    "a_vector =np.array([1,2,3])\n",
    "b_vector =np.array([4,5,6])\n",
    "print(f'덧셈 : {a_vector+b_vector}')\n",
    "print(f'뺄셈 : {a_vector-b_vector}')\n",
    "print(f'곱셈 : {a_vector*b_vector}')\n",
    "print(f'제곱 : {a_vector**b_vector}')"
   ]
  },
  {
   "cell_type": "code",
   "execution_count": 41,
   "metadata": {},
   "outputs": [
    {
     "name": "stdout",
     "output_type": "stream",
     "text": [
      "arr : [[1 2 3]\n",
      " [4 5 6]\n",
      " [7 8 9]]\n",
      "첫번째 행, 두번째 열 : 2\n",
      "첫번째 행, 두번째 열 : 2\n",
      "첫번째 행 : [1 2 3]\n",
      "첫번째 행 : [1 2 3]\n",
      "첫번째 행 : [1 2 3]\n",
      "두번째 열 : [2 5 8]\n",
      "2x2 부분 배열 : [[5 6]\n",
      " [8 9]]\n"
     ]
    }
   ],
   "source": [
    "import numpy as np\n",
    "\n",
    "# 배열 인덱싱 및 슬라이싱\n",
    "arr=np.array([\n",
    "    [1,2,3]\n",
    "    ,[4,5,6]\n",
    "    ,[7,8,9]\n",
    "])\n",
    "\n",
    "print(f'arr : {arr}')\n",
    "print(f'첫번째 행, 두번째 열 : {arr[0][1]}') # arr[행][열]\n",
    "print(f'첫번째 행, 두번째 열 : {arr[0,1]}') # arr[행,열]\n",
    "\n",
    "# 특정 행 슬라이싱\n",
    "print(f'첫번째 행 : {arr[0]}')\n",
    "print(f'첫번째 행 : {arr[0,]}')\n",
    "print(f'첫번째 행 : {arr[0,:]}')\n",
    "\n",
    "# 특정 열 슬라이싱\n",
    "print(f'두번째 열 : {arr[:,1]}')\n",
    "\n",
    "# 부분 배열 가져오기\n",
    "print(f'2x2 부분 배열 : {arr[1:3,1:3]}')"
   ]
  },
  {
   "cell_type": "code",
   "execution_count": 43,
   "metadata": {},
   "outputs": [
    {
     "name": "stdout",
     "output_type": "stream",
     "text": [
      "행 열 곱 : [[ 5  5]\n",
      " [11 11]]\n"
     ]
    }
   ],
   "source": [
    "import numpy as np\n",
    "\n",
    "# 선형대수 연산\n",
    "# 선형 변환(Linear Transformation)은 벡터나 행렬을 다른 벡터나 행렬로 변환하는 수학적 과정\n",
    "# 특정 방향으로 확장/축소하는 역할\n",
    "A = np.array([\n",
    "    [1,2]\n",
    "    ,[3,4]\n",
    "])\n",
    "B = np.array([\n",
    "    [1,1]\n",
    "    ,[2,2]\n",
    "])\n",
    "\n",
    "# 점 곱 \n",
    "# 주어진 데이터(A)를 가중치(B)로 선형 변환한 것이다.\n",
    "dot_prod=np.dot(A,B)\n",
    "print(f'행 열 곱 : {dot_prod}')"
   ]
  },
  {
   "cell_type": "code",
   "execution_count": 45,
   "metadata": {},
   "outputs": [
    {
     "data": {
      "text/plain": [
       "(array([[1, 2],\n",
       "        [3, 4]]),\n",
       " array([[1, 3],\n",
       "        [2, 4]]),\n",
       " array([[1, 3],\n",
       "        [2, 4]]))"
      ]
     },
     "execution_count": 45,
     "metadata": {},
     "output_type": "execute_result"
    }
   ],
   "source": [
    "import numpy as np\n",
    "\n",
    "# 전체 행렬 : transpose\n",
    "A = np.array([\n",
    "    [1,2]\n",
    "    ,[3,4]\n",
    "])\n",
    "B = np.array([\n",
    "    [1,1]\n",
    "    ,[2,2]\n",
    "])\n",
    "\n",
    "A,A.T,A.transpose()"
   ]
  },
  {
   "cell_type": "code",
   "execution_count": 49,
   "metadata": {},
   "outputs": [
    {
     "name": "stdout",
     "output_type": "stream",
     "text": [
      "a shape : (3,)\n",
      "b shape : (3,)\n",
      "14\n",
      "14\n"
     ]
    }
   ],
   "source": [
    "import numpy as np\n",
    "\n",
    "a=np.array([1,2,3])\n",
    "print(f'a shape : {a.shape}')\n",
    "b=np.array([1,2,3])\n",
    "print(f'b shape : {b.shape}')\n",
    "print(np.dot(a,b))\n",
    "print(np.dot(a.T,b))"
   ]
  },
  {
   "cell_type": "code",
   "execution_count": 52,
   "metadata": {},
   "outputs": [
    {
     "name": "stdout",
     "output_type": "stream",
     "text": [
      "a shape : (2, 3)\n",
      "b shape : (3,)\n",
      "[14 32]\n",
      "오류: shapes (3,2) and (3,) not aligned: 2 (dim 1) != 3 (dim 0)\n"
     ]
    }
   ],
   "source": [
    "import numpy as np\n",
    "\n",
    "a = np.array([[1, 2, 3], [4, 5, 6]])\n",
    "print(f'a shape : {a.shape}')\n",
    "\n",
    "b = np.array([1, 2, 3])\n",
    "print(f'b shape : {b.shape}')\n",
    "\n",
    "print(np.dot(a, b))\n",
    "\n",
    "try:\n",
    "    print(np.dot(a.T, b))\n",
    "except Exception as e:\n",
    "    print('오류: ' + str(e))\n"
   ]
  },
  {
   "cell_type": "code",
   "execution_count": null,
   "metadata": {},
   "outputs": [
    {
     "name": "stdout",
     "output_type": "stream",
     "text": [
      "[[ 0.6 -0.7]\n",
      " [-0.2  0.4]]\n"
     ]
    }
   ],
   "source": [
    "import numpy as np\n",
    "\n",
    "# 역행렬\n",
    "# 역행렬 존재하는 조건\n",
    "# 1. 정사각 행렬(Square Matrix) (nxn)\n",
    "# 2. 행렬식이 0이 아니어야한다. 행렬식이 0 이면 역행렬이 존재하지 않고 이러한 행렬을 특이행렬(Singular Matrix)라고 한다.\n",
    "#    AxA-1 = A-1\n",
    "#    단위 행렬(Identity Matrix), 행렬 곱셈의 항등원 역할\n",
    "\n",
    "\n",
    "\n",
    "# 행렬식 : 정사각 행렬의 스칼라(단일값) 값을 의미한다.\n",
    "# 특정 행렬(데이터)이 선형변환에서 공간을 얼마나 변환시키는지를 나타나는 값\n",
    "\n",
    "# 행렬식이 0이면 해당 행렬이 역행렬을 가질 수 없다(det(A)=0)\n",
    "# 해당 행렬이 선형 종속(Linear Dependent)이 된다\n",
    "\n",
    "# 행렬식이 0이 아니면\n",
    "# 행렬이 가역(invertible)하며, 역행렬이 존재한다.\n",
    "\n",
    "# 역행렬과 행렬식 계산\n",
    "# 1. 역행렬 구하기(np.linalg.inv())\n",
    "\n",
    "# 행렬 A : 2X2 정사각행렬\n",
    "A = np.array([\n",
    "    [4,7]\n",
    "    ,[2,6]\n",
    "]\n",
    ")\n",
    "\n",
    "# 역행렬 구하기\n",
    "A_inv = np.linalg.inv(A)\n",
    "\n",
    "print(A_inv)\n",
    "\n"
   ]
  },
  {
   "cell_type": "code",
   "execution_count": null,
   "metadata": {},
   "outputs": [
    {
     "ename": "LinAlgError",
     "evalue": "Singular matrix",
     "output_type": "error",
     "traceback": [
      "\u001b[1;31m---------------------------------------------------------------------------\u001b[0m",
      "\u001b[1;31mLinAlgError\u001b[0m                               Traceback (most recent call last)",
      "Cell \u001b[1;32mIn[8], line 40\u001b[0m\n\u001b[0;32m     31\u001b[0m B \u001b[38;5;241m=\u001b[39m np\u001b[38;5;241m.\u001b[39marray([\n\u001b[0;32m     32\u001b[0m     [\u001b[38;5;241m4\u001b[39m,\u001b[38;5;241m12\u001b[39m]\n\u001b[0;32m     33\u001b[0m     ,[\u001b[38;5;241m2\u001b[39m,\u001b[38;5;241m6\u001b[39m]\n\u001b[0;32m     34\u001b[0m ]\n\u001b[0;32m     35\u001b[0m )\n\u001b[0;32m     38\u001b[0m \u001b[38;5;66;03m# 역행렬 구하기\u001b[39;00m\n\u001b[1;32m---> 40\u001b[0m B_inv \u001b[38;5;241m=\u001b[39m \u001b[43mnp\u001b[49m\u001b[38;5;241;43m.\u001b[39;49m\u001b[43mlinalg\u001b[49m\u001b[38;5;241;43m.\u001b[39;49m\u001b[43minv\u001b[49m\u001b[43m(\u001b[49m\u001b[43mB\u001b[49m\u001b[43m)\u001b[49m\n\u001b[0;32m     42\u001b[0m \u001b[38;5;28mprint\u001b[39m(B_inv)\n\u001b[0;32m     44\u001b[0m \u001b[38;5;66;03m# 단위 행렬 구하기\u001b[39;00m\n",
      "File \u001b[1;32m<__array_function__ internals>:180\u001b[0m, in \u001b[0;36minv\u001b[1;34m(*args, **kwargs)\u001b[0m\n",
      "File \u001b[1;32mc:\\ProgramData\\anaconda3\\envs\\pyml\\lib\\site-packages\\numpy\\linalg\\linalg.py:552\u001b[0m, in \u001b[0;36minv\u001b[1;34m(a)\u001b[0m\n\u001b[0;32m    550\u001b[0m signature \u001b[38;5;241m=\u001b[39m \u001b[38;5;124m'\u001b[39m\u001b[38;5;124mD->D\u001b[39m\u001b[38;5;124m'\u001b[39m \u001b[38;5;28;01mif\u001b[39;00m isComplexType(t) \u001b[38;5;28;01melse\u001b[39;00m \u001b[38;5;124m'\u001b[39m\u001b[38;5;124md->d\u001b[39m\u001b[38;5;124m'\u001b[39m\n\u001b[0;32m    551\u001b[0m extobj \u001b[38;5;241m=\u001b[39m get_linalg_error_extobj(_raise_linalgerror_singular)\n\u001b[1;32m--> 552\u001b[0m ainv \u001b[38;5;241m=\u001b[39m \u001b[43m_umath_linalg\u001b[49m\u001b[38;5;241;43m.\u001b[39;49m\u001b[43minv\u001b[49m\u001b[43m(\u001b[49m\u001b[43ma\u001b[49m\u001b[43m,\u001b[49m\u001b[43m \u001b[49m\u001b[43msignature\u001b[49m\u001b[38;5;241;43m=\u001b[39;49m\u001b[43msignature\u001b[49m\u001b[43m,\u001b[49m\u001b[43m \u001b[49m\u001b[43mextobj\u001b[49m\u001b[38;5;241;43m=\u001b[39;49m\u001b[43mextobj\u001b[49m\u001b[43m)\u001b[49m\n\u001b[0;32m    553\u001b[0m \u001b[38;5;28;01mreturn\u001b[39;00m wrap(ainv\u001b[38;5;241m.\u001b[39mastype(result_t, copy\u001b[38;5;241m=\u001b[39m\u001b[38;5;28;01mFalse\u001b[39;00m))\n",
      "File \u001b[1;32mc:\\ProgramData\\anaconda3\\envs\\pyml\\lib\\site-packages\\numpy\\linalg\\linalg.py:89\u001b[0m, in \u001b[0;36m_raise_linalgerror_singular\u001b[1;34m(err, flag)\u001b[0m\n\u001b[0;32m     88\u001b[0m \u001b[38;5;28;01mdef\u001b[39;00m \u001b[38;5;21m_raise_linalgerror_singular\u001b[39m(err, flag):\n\u001b[1;32m---> 89\u001b[0m     \u001b[38;5;28;01mraise\u001b[39;00m LinAlgError(\u001b[38;5;124m\"\u001b[39m\u001b[38;5;124mSingular matrix\u001b[39m\u001b[38;5;124m\"\u001b[39m)\n",
      "\u001b[1;31mLinAlgError\u001b[0m: Singular matrix"
     ]
    }
   ],
   "source": [
    "import numpy as np\n",
    "\n",
    "# 역행렬\n",
    "# 역행렬 존재하는 조건\n",
    "# 1. 정사각 행렬(Square Matrix) (nxn)\n",
    "# 2. 행렬식이 0이 아니어야한다. 행렬식이 0 이면 역행렬이 존재하지 않고 이러한 행렬을 특이행렬(Singular Matrix)라고 한다.\n",
    "#    AxA-1 = A-1\n",
    "#    단위 행렬(Identity Matrix), 행렬 곱셈의 항등원 역할\n",
    "\n",
    "\n",
    "\n",
    "# 행렬식 : 정사각 행렬의 스칼라(단일값) 값을 의미한다.\n",
    "# 특정 행렬(데이터)이 선형변환에서 공간을 얼마나 변환시키는지를 나타나는 값\n",
    "\n",
    "# 행렬식이 0이면 해당 행렬이 역행렬을 가질 수 없다(det(A)=0)\n",
    "# 해당 행렬이 선형 종속(Linear Dependent)이 된다\n",
    "\n",
    "# 행렬식이 0이 아니면\n",
    "# 행렬이 가역(invertible)하며, 역행렬이 존재한다.\n",
    "\n",
    "# 역행렬과 행렬식 계산\n",
    "# 1. 역행렬 구하기(np.linalg.inv())\n",
    "\n",
    "# 행렬 A : 2X2 정사각행렬\n",
    "A = np.array([\n",
    "    [4,7]\n",
    "    ,[2,6]\n",
    "]\n",
    ")\n",
    "\n",
    "B = np.array([\n",
    "    [4,12]\n",
    "    ,[2,6]\n",
    "]\n",
    ")\n",
    "\n",
    "\n",
    "# 역행렬 구하기\n",
    "A_inv = np.linalg.inv(A)\n",
    "B_inv = np.linalg.inv(B)\n",
    "\n",
    "print(A_inv)\n",
    "print(B_inv)\n",
    "\n",
    "# 단위 행렬 구하기\n",
    "A_I = np.dot(A,A_inv)\n",
    "print(A_I)\n",
    "\n",
    "B_I = np.dot(B,B_inv)\n",
    "print(B_I)\n"
   ]
  },
  {
   "cell_type": "code",
   "execution_count": 12,
   "metadata": {},
   "outputs": [
    {
     "name": "stdout",
     "output_type": "stream",
     "text": [
      "[[1 2 3]\n",
      " [4 5 6]\n",
      " [7 8 9]]\n",
      "[[-4.50359963e+15  9.00719925e+15 -4.50359963e+15]\n",
      " [ 9.00719925e+15 -1.80143985e+16  9.00719925e+15]\n",
      " [-4.50359963e+15  9.00719925e+15 -4.50359963e+15]]\n",
      "6.66133814775094e-16\n"
     ]
    }
   ],
   "source": [
    "import numpy as np\n",
    "\n",
    "# 행렬식 구하기 (np.linalg.det())\n",
    "\n",
    "# 3x3 정사각 행렬\n",
    "B = np.array(\n",
    "    [\n",
    "        [1,2,3]\n",
    "        ,[4,5,6]\n",
    "        ,[7,8,9]\n",
    "    ]\n",
    ")\n",
    "print(B)\n",
    "\n",
    "# 역행렬 구하기\n",
    "B_inv = np.linalg.inv(B)\n",
    "print(B_inv)\n",
    "\n",
    "# 행렬식 구하기\n",
    "B_det = np.linalg.det(B)\n",
    "\n",
    "print(B_det)"
   ]
  },
  {
   "cell_type": "code",
   "execution_count": 13,
   "metadata": {},
   "outputs": [
    {
     "name": "stdout",
     "output_type": "stream",
     "text": [
      "[[ 1  2  3]\n",
      " [ 4  5  6]\n",
      " [ 7  8 10]]\n",
      "[[-0.66666667 -1.33333333  1.        ]\n",
      " [-0.66666667  3.66666667 -2.        ]\n",
      " [ 1.         -2.          1.        ]]\n",
      "-2.9999999999999982\n"
     ]
    }
   ],
   "source": [
    "import numpy as np\n",
    "\n",
    "# 행렬식 구하기 (np.linalg.det())\n",
    "\n",
    "# 3x3 정사각 행렬\n",
    "B = np.array(\n",
    "    [\n",
    "        [1,2,3]\n",
    "        ,[4,5,6]\n",
    "        ,[7,8,10]\n",
    "    ]\n",
    ")\n",
    "print(B)\n",
    "\n",
    "# 역행렬 구하기\n",
    "B_inv = np.linalg.inv(B)\n",
    "print(B_inv)\n",
    "\n",
    "# 행렬식 구하기\n",
    "B_det = np.linalg.det(B)\n",
    "\n",
    "print(B_det)"
   ]
  },
  {
   "cell_type": "code",
   "execution_count": 16,
   "metadata": {},
   "outputs": [
    {
     "name": "stdout",
     "output_type": "stream",
     "text": [
      "[[1 2]\n",
      " [2 4]]\n",
      "행렬식 값 : 0.0\n",
      "역행렬을 가질 수 없는 특이 행렬이다.\n"
     ]
    }
   ],
   "source": [
    "import numpy as np\n",
    "\n",
    "# 특이 행렬(Singular Matrix)\n",
    "\n",
    "C = np.array(\n",
    "    [\n",
    "        [1,2]\n",
    "        ,[2,4]\n",
    "    ]\n",
    ")\n",
    "\n",
    "print(C)\n",
    "\n",
    "# 행렬식 확인\n",
    "print(f'행렬식 값 : {np.linalg.det(C)}')\n",
    "\n",
    "try:\n",
    "    c_inv = np.linalg.inv(C)\n",
    "    print(f'역행렬 : {c_inv}')\n",
    "except np.linalg.LinAlgError:\n",
    "    print('역행렬을 가질 수 없는 특이 행렬이다.')\n",
    "    "
   ]
  },
  {
   "cell_type": "markdown",
   "metadata": {},
   "source": [
    "# 역행렬의 해석과 의미\n",
    "\n",
    "1. 역행렬의 존재 조건\n",
    "- 행렬  A가 정사각 행렬이어야 한다.\n",
    "- 행렬식이 0이 아니어야한다.\n",
    "- 선행독립(Linear Independent)인 열벡터를 가져야 한다.\n",
    "    - 즉, 행렬의 열벡터들이 서로 독립적이면 역행렬이 존재하게 된다.\n",
    "\n",
    "2. 해석\n",
    "2.1 선형변환 관점\n",
    "- 행렬 A는 공간을 변형시키는 선형 변환으로 볼 수 있다.\n",
    "- 역행렬은 이 변환을 되돌리는 역할을 한다.(공간을 복원하는 역할)\n",
    "\n",
    "2.2 기하학적 관점\n",
    "- 역행렬이 존재 : 변환이 가역적이라면, 좌표 공간을 다시 원래대로 복원\n",
    "- 역행렬이 존재 x : 변환이 공간을 축소시키거나, 특정 차원으로 줄여 되둘리 수 없는 변환(Singular Transformation)이 된다."
   ]
  },
  {
   "cell_type": "markdown",
   "metadata": {},
   "source": [
    "### Singular Tranformation\n",
    "#### 역행렬이 존재하지 않는 경우는 공간을 완전히 축소시키는 변환을 의미한다."
   ]
  },
  {
   "cell_type": "code",
   "execution_count": null,
   "metadata": {},
   "outputs": [],
   "source": []
  }
 ],
 "metadata": {
  "kernelspec": {
   "display_name": "pyml",
   "language": "python",
   "name": "python3"
  },
  "language_info": {
   "codemirror_mode": {
    "name": "ipython",
    "version": 3
   },
   "file_extension": ".py",
   "mimetype": "text/x-python",
   "name": "python",
   "nbconvert_exporter": "python",
   "pygments_lexer": "ipython3",
   "version": "3.10.16"
  }
 },
 "nbformat": 4,
 "nbformat_minor": 2
}
