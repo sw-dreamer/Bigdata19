{
 "cells": [
  {
   "cell_type": "code",
   "execution_count": 1,
   "metadata": {},
   "outputs": [
    {
     "name": "stdout",
     "output_type": "stream",
     "text": [
      "4.6.0\n",
      "0.2.7\n"
     ]
    }
   ],
   "source": [
    "import lightgbm as lgb\n",
    "import hyperopt\n",
    "print(lgb.__version__)\n",
    "print(hyperopt.__version__)"
   ]
  },
  {
   "cell_type": "code",
   "execution_count": 2,
   "metadata": {},
   "outputs": [
    {
     "name": "stdout",
     "output_type": "stream",
     "text": [
      "True\n"
     ]
    }
   ],
   "source": [
    "import torch\n",
    "print(torch.cuda.is_available())"
   ]
  },
  {
   "cell_type": "code",
   "execution_count": 3,
   "metadata": {},
   "outputs": [
    {
     "data": {
      "text/plain": [
       "<hyperopt.pyll.base.Apply at 0x158fd822ef0>"
      ]
     },
     "execution_count": 3,
     "metadata": {},
     "output_type": "execute_result"
    }
   ],
   "source": [
    "from hyperopt import hp\n",
    "\n",
    "# 검색 공간 정의\n",
    "search_space = {\n",
    "    # 'x' 변수: -10에서 10 사이의 값을 1 간격으로 균등하게 선택\n",
    "    'x': hp.quniform('x', -10, 10, 1),\n",
    "    \n",
    "    # 'y' 변수: -15에서 15 사이의 값을 1 간격으로 균등하게 선택\n",
    "    'y': hp.quniform('y', -15, 15, 1)\n",
    "}\n",
    "search_space.get('x')"
   ]
  },
  {
   "cell_type": "code",
   "execution_count": 4,
   "metadata": {},
   "outputs": [
    {
     "name": "stdout",
     "output_type": "stream",
     "text": [
      "100%|██████████| 5/5 [00:00<00:00, 625.25trial/s, best loss: -224.0]\n",
      "best : {'x': -4.0, 'y': 12.0}\n"
     ]
    }
   ],
   "source": [
    "import numpy as np\n",
    "import pandas as pd\n",
    "from hyperopt import hp\n",
    "\n",
    "# 검색 공간 정의\n",
    "search_space = {\n",
    "    # 'x' 변수: -10에서 10 사이의 값을 1 간격으로 균등하게 선택\n",
    "    'x': hp.quniform('x', -10, 10, 1),\n",
    "    \n",
    "    # 'y' 변수: -15에서 15 사이의 값을 1 간격으로 균등하게 선택\n",
    "    'y': hp.quniform('y', -15, 15, 1)\n",
    "}\n",
    "\n",
    "from hyperopt import STATUS_OK\n",
    "\n",
    "# 목적 함수를 선언, 변수값과 변수 검색 공간을 가지는 딕셔너리를 인자로 받고, 특정 값을 반환\n",
    "def objective_func(search_space):\n",
    "    x=search_space['x']\n",
    "    y=search_space['y']\n",
    "    retval=x**2-20*y\n",
    "    \n",
    "    return retval\n",
    "\n",
    "from hyperopt import fmin,tpe,Trials\n",
    "#입력 결과값을 저장한 Trials 객체값 생성\n",
    "trial_val = Trials()\n",
    "\n",
    "# 목적 함수의 최솟값을 반환하는 최적 입력 변수값을 5번의 입력값 시도(max_evals=5)로 찾아냄\n",
    "best_01=fmin(\n",
    "    fn=objective_func\n",
    "    ,space=search_space\n",
    "    ,algo=tpe.suggest\n",
    "    ,max_evals=5\n",
    "    ,trials=trial_val\n",
    "    ,rstate=np.random.default_rng(seed=0)\n",
    ")\n",
    "\n",
    "print(f'best : {best_01}')"
   ]
  },
  {
   "cell_type": "code",
   "execution_count": null,
   "metadata": {},
   "outputs": [
    {
     "name": "stdout",
     "output_type": "stream",
     "text": [
      "100%|██████████| 600/600 [00:15<00:00, 37.65trial/s, best loss: -300.0] \n",
      "best : {'x': -0.0, 'y': 15.0}\n",
      "[{'loss': -64.0, 'status': 'ok'}, {'loss': -184.0, 'status': 'ok'}, {'loss': 56.0, 'status': 'ok'}, {'loss': -224.0, 'status': 'ok'}, {'loss': 61.0, 'status': 'ok'}, {'loss': -296.0, 'status': 'ok'}, {'loss': -40.0, 'status': 'ok'}, {'loss': 281.0, 'status': 'ok'}, {'loss': 64.0, 'status': 'ok'}, {'loss': 100.0, 'status': 'ok'}, {'loss': 60.0, 'status': 'ok'}, {'loss': -39.0, 'status': 'ok'}, {'loss': 1.0, 'status': 'ok'}, {'loss': -164.0, 'status': 'ok'}, {'loss': 21.0, 'status': 'ok'}, {'loss': -56.0, 'status': 'ok'}, {'loss': 284.0, 'status': 'ok'}, {'loss': 176.0, 'status': 'ok'}, {'loss': -171.0, 'status': 'ok'}, {'loss': 0.0, 'status': 'ok'}, {'loss': -291.0, 'status': 'ok'}, {'loss': -271.0, 'status': 'ok'}, {'loss': -255.0, 'status': 'ok'}, {'loss': -156.0, 'status': 'ok'}, {'loss': -291.0, 'status': 'ok'}, {'loss': -136.0, 'status': 'ok'}, {'loss': -211.0, 'status': 'ok'}, {'loss': -176.0, 'status': 'ok'}, {'loss': -95.0, 'status': 'ok'}, {'loss': -264.0, 'status': 'ok'}, {'loss': -51.0, 'status': 'ok'}, {'loss': 316.0, 'status': 'ok'}, {'loss': -239.0, 'status': 'ok'}, {'loss': -175.0, 'status': 'ok'}, {'loss': 44.0, 'status': 'ok'}, {'loss': 256.0, 'status': 'ok'}, {'loss': -231.0, 'status': 'ok'}, {'loss': 121.0, 'status': 'ok'}, {'loss': -96.0, 'status': 'ok'}, {'loss': -264.0, 'status': 'ok'}, {'loss': -176.0, 'status': 'ok'}, {'loss': 81.0, 'status': 'ok'}, {'loss': -20.0, 'status': 'ok'}, {'loss': 21.0, 'status': 'ok'}, {'loss': 189.0, 'status': 'ok'}, {'loss': -15.0, 'status': 'ok'}, {'loss': -199.0, 'status': 'ok'}, {'loss': -180.0, 'status': 'ok'}, {'loss': 165.0, 'status': 'ok'}, {'loss': 256.0, 'status': 'ok'}, {'loss': -79.0, 'status': 'ok'}, {'loss': -156.0, 'status': 'ok'}, {'loss': -251.0, 'status': 'ok'}, {'loss': -151.0, 'status': 'ok'}, {'loss': -4.0, 'status': 'ok'}, {'loss': -180.0, 'status': 'ok'}, {'loss': -36.0, 'status': 'ok'}, {'loss': -196.0, 'status': 'ok'}, {'loss': -216.0, 'status': 'ok'}, {'loss': 141.0, 'status': 'ok'}, {'loss': -131.0, 'status': 'ok'}, {'loss': -179.0, 'status': 'ok'}, {'loss': -31.0, 'status': 'ok'}, {'loss': -244.0, 'status': 'ok'}, {'loss': -275.0, 'status': 'ok'}, {'loss': -251.0, 'status': 'ok'}, {'loss': -284.0, 'status': 'ok'}, {'loss': -211.0, 'status': 'ok'}, {'loss': -276.0, 'status': 'ok'}, {'loss': -199.0, 'status': 'ok'}, {'loss': -240.0, 'status': 'ok'}, {'loss': -144.0, 'status': 'ok'}, {'loss': -71.0, 'status': 'ok'}, {'loss': -296.0, 'status': 'ok'}, {'loss': -235.0, 'status': 'ok'}, {'loss': -176.0, 'status': 'ok'}, {'loss': -124.0, 'status': 'ok'}, {'loss': -284.0, 'status': 'ok'}, {'loss': -239.0, 'status': 'ok'}, {'loss': -244.0, 'status': 'ok'}, {'loss': -191.0, 'status': 'ok'}, {'loss': -39.0, 'status': 'ok'}, {'loss': 284.0, 'status': 'ok'}, {'loss': -216.0, 'status': 'ok'}, {'loss': 20.0, 'status': 'ok'}, {'loss': -56.0, 'status': 'ok'}, {'loss': -75.0, 'status': 'ok'}, {'loss': -231.0, 'status': 'ok'}, {'loss': 101.0, 'status': 'ok'}, {'loss': -239.0, 'status': 'ok'}, {'loss': -20.0, 'status': 'ok'}, {'loss': 241.0, 'status': 'ok'}, {'loss': -151.0, 'status': 'ok'}, {'loss': -256.0, 'status': 'ok'}, {'loss': -84.0, 'status': 'ok'}, {'loss': -164.0, 'status': 'ok'}, {'loss': -204.0, 'status': 'ok'}, {'loss': 265.0, 'status': 'ok'}, {'loss': -159.0, 'status': 'ok'}, {'loss': -251.0, 'status': 'ok'}, {'loss': -175.0, 'status': 'ok'}, {'loss': -299.0, 'status': 'ok'}, {'loss': -136.0, 'status': 'ok'}, {'loss': -299.0, 'status': 'ok'}, {'loss': -231.0, 'status': 'ok'}, {'loss': 61.0, 'status': 'ok'}, {'loss': -80.0, 'status': 'ok'}, {'loss': -219.0, 'status': 'ok'}, {'loss': -291.0, 'status': 'ok'}, {'loss': -299.0, 'status': 'ok'}, {'loss': 4.0, 'status': 'ok'}, {'loss': -151.0, 'status': 'ok'}, {'loss': 21.0, 'status': 'ok'}, {'loss': -24.0, 'status': 'ok'}, {'loss': -111.0, 'status': 'ok'}, {'loss': -276.0, 'status': 'ok'}, {'loss': -124.0, 'status': 'ok'}, {'loss': -260.0, 'status': 'ok'}, {'loss': -59.0, 'status': 'ok'}, {'loss': 144.0, 'status': 'ok'}, {'loss': -84.0, 'status': 'ok'}, {'loss': -179.0, 'status': 'ok'}, {'loss': -264.0, 'status': 'ok'}, {'loss': -231.0, 'status': 'ok'}, {'loss': 220.0, 'status': 'ok'}, {'loss': -195.0, 'status': 'ok'}, {'loss': 129.0, 'status': 'ok'}, {'loss': -40.0, 'status': 'ok'}, {'loss': -244.0, 'status': 'ok'}, {'loss': 281.0, 'status': 'ok'}, {'loss': -276.0, 'status': 'ok'}, {'loss': -144.0, 'status': 'ok'}, {'loss': -191.0, 'status': 'ok'}, {'loss': -156.0, 'status': 'ok'}, {'loss': -215.0, 'status': 'ok'}, {'loss': 181.0, 'status': 'ok'}, {'loss': 29.0, 'status': 'ok'}, {'loss': -300.0, 'status': 'ok'}, {'loss': -260.0, 'status': 'ok'}, {'loss': -64.0, 'status': 'ok'}, {'loss': -195.0, 'status': 'ok'}, {'loss': 121.0, 'status': 'ok'}, {'loss': -124.0, 'status': 'ok'}, {'loss': -279.0, 'status': 'ok'}, {'loss': -196.0, 'status': 'ok'}, {'loss': -299.0, 'status': 'ok'}, {'loss': -239.0, 'status': 'ok'}, {'loss': -276.0, 'status': 'ok'}, {'loss': -300.0, 'status': 'ok'}, {'loss': -300.0, 'status': 'ok'}, {'loss': -260.0, 'status': 'ok'}, {'loss': -271.0, 'status': 'ok'}, {'loss': -216.0, 'status': 'ok'}, {'loss': -231.0, 'status': 'ok'}, {'loss': -296.0, 'status': 'ok'}, {'loss': -179.0, 'status': 'ok'}, {'loss': -251.0, 'status': 'ok'}, {'loss': -220.0, 'status': 'ok'}, {'loss': -64.0, 'status': 'ok'}, {'loss': -196.0, 'status': 'ok'}, {'loss': -276.0, 'status': 'ok'}, {'loss': -300.0, 'status': 'ok'}, {'loss': -236.0, 'status': 'ok'}, {'loss': -244.0, 'status': 'ok'}, {'loss': -180.0, 'status': 'ok'}, {'loss': -151.0, 'status': 'ok'}, {'loss': -291.0, 'status': 'ok'}, {'loss': -59.0, 'status': 'ok'}, {'loss': -175.0, 'status': 'ok'}, {'loss': -120.0, 'status': 'ok'}, {'loss': -239.0, 'status': 'ok'}, {'loss': -264.0, 'status': 'ok'}, {'loss': 244.0, 'status': 'ok'}, {'loss': -219.0, 'status': 'ok'}, {'loss': 149.0, 'status': 'ok'}, {'loss': -256.0, 'status': 'ok'}, {'loss': -264.0, 'status': 'ok'}, {'loss': -160.0, 'status': 'ok'}, {'loss': -179.0, 'status': 'ok'}, {'loss': 105.0, 'status': 'ok'}, {'loss': -259.0, 'status': 'ok'}, {'loss': -299.0, 'status': 'ok'}, {'loss': 304.0, 'status': 'ok'}, {'loss': -204.0, 'status': 'ok'}, {'loss': -180.0, 'status': 'ok'}, {'loss': -216.0, 'status': 'ok'}, {'loss': -131.0, 'status': 'ok'}, {'loss': 49.0, 'status': 'ok'}, {'loss': -175.0, 'status': 'ok'}, {'loss': -299.0, 'status': 'ok'}, {'loss': -264.0, 'status': 'ok'}, {'loss': 260.0, 'status': 'ok'}, {'loss': -39.0, 'status': 'ok'}, {'loss': 204.0, 'status': 'ok'}, {'loss': 49.0, 'status': 'ok'}, {'loss': -119.0, 'status': 'ok'}, {'loss': -240.0, 'status': 'ok'}, {'loss': -191.0, 'status': 'ok'}, {'loss': -256.0, 'status': 'ok'}, {'loss': -64.0, 'status': 'ok'}, {'loss': -211.0, 'status': 'ok'}, {'loss': 101.0, 'status': 'ok'}, {'loss': -275.0, 'status': 'ok'}, {'loss': -231.0, 'status': 'ok'}, {'loss': -216.0, 'status': 'ok'}, {'loss': -179.0, 'status': 'ok'}, {'loss': -300.0, 'status': 'ok'}, {'loss': -135.0, 'status': 'ok'}, {'loss': -256.0, 'status': 'ok'}, {'loss': -184.0, 'status': 'ok'}, {'loss': -284.0, 'status': 'ok'}, {'loss': -100.0, 'status': 'ok'}, {'loss': 124.0, 'status': 'ok'}, {'loss': -191.0, 'status': 'ok'}, {'loss': -259.0, 'status': 'ok'}, {'loss': 76.0, 'status': 'ok'}, {'loss': -139.0, 'status': 'ok'}, {'loss': -176.0, 'status': 'ok'}, {'loss': -236.0, 'status': 'ok'}, {'loss': -279.0, 'status': 'ok'}, {'loss': 160.0, 'status': 'ok'}, {'loss': -111.0, 'status': 'ok'}, {'loss': -104.0, 'status': 'ok'}, {'loss': 44.0, 'status': 'ok'}, {'loss': 36.0, 'status': 'ok'}, {'loss': -219.0, 'status': 'ok'}, {'loss': -296.0, 'status': 'ok'}, {'loss': -264.0, 'status': 'ok'}, {'loss': -151.0, 'status': 'ok'}, {'loss': -256.0, 'status': 'ok'}, {'loss': -219.0, 'status': 'ok'}, {'loss': -200.0, 'status': 'ok'}, {'loss': -179.0, 'status': 'ok'}, {'loss': -204.0, 'status': 'ok'}, {'loss': -255.0, 'status': 'ok'}, {'loss': -191.0, 'status': 'ok'}, {'loss': -219.0, 'status': 'ok'}, {'loss': -256.0, 'status': 'ok'}, {'loss': 49.0, 'status': 'ok'}, {'loss': -44.0, 'status': 'ok'}, {'loss': -275.0, 'status': 'ok'}, {'loss': -256.0, 'status': 'ok'}, {'loss': -264.0, 'status': 'ok'}, {'loss': -100.0, 'status': 'ok'}, {'loss': 165.0, 'status': 'ok'}, {'loss': -139.0, 'status': 'ok'}, {'loss': -159.0, 'status': 'ok'}, {'loss': -236.0, 'status': 'ok'}, {'loss': -211.0, 'status': 'ok'}, {'loss': -196.0, 'status': 'ok'}, {'loss': 180.0, 'status': 'ok'}, {'loss': -71.0, 'status': 'ok'}, {'loss': -251.0, 'status': 'ok'}, {'loss': 41.0, 'status': 'ok'}, {'loss': -259.0, 'status': 'ok'}, {'loss': -179.0, 'status': 'ok'}, {'loss': 296.0, 'status': 'ok'}, {'loss': -300.0, 'status': 'ok'}, {'loss': -280.0, 'status': 'ok'}, {'loss': -279.0, 'status': 'ok'}, {'loss': -299.0, 'status': 'ok'}, {'loss': -256.0, 'status': 'ok'}, {'loss': -239.0, 'status': 'ok'}, {'loss': -276.0, 'status': 'ok'}, {'loss': -220.0, 'status': 'ok'}, {'loss': -299.0, 'status': 'ok'}, {'loss': -260.0, 'status': 'ok'}, {'loss': -296.0, 'status': 'ok'}, {'loss': -231.0, 'status': 'ok'}, {'loss': -191.0, 'status': 'ok'}, {'loss': -276.0, 'status': 'ok'}, {'loss': -219.0, 'status': 'ok'}, {'loss': -239.0, 'status': 'ok'}, {'loss': -299.0, 'status': 'ok'}, {'loss': -260.0, 'status': 'ok'}, {'loss': -276.0, 'status': 'ok'}, {'loss': -296.0, 'status': 'ok'}, {'loss': -251.0, 'status': 'ok'}, {'loss': -199.0, 'status': 'ok'}, {'loss': -291.0, 'status': 'ok'}, {'loss': -240.0, 'status': 'ok'}, {'loss': -176.0, 'status': 'ok'}, {'loss': -264.0, 'status': 'ok'}, {'loss': -204.0, 'status': 'ok'}, {'loss': -259.0, 'status': 'ok'}, {'loss': -219.0, 'status': 'ok'}, {'loss': -151.0, 'status': 'ok'}, {'loss': -276.0, 'status': 'ok'}, {'loss': 100.0, 'status': 'ok'}, {'loss': -175.0, 'status': 'ok'}, {'loss': -231.0, 'status': 'ok'}, {'loss': -279.0, 'status': 'ok'}, {'loss': -296.0, 'status': 'ok'}, {'loss': -259.0, 'status': 'ok'}, {'loss': -120.0, 'status': 'ok'}, {'loss': -156.0, 'status': 'ok'}, {'loss': -204.0, 'status': 'ok'}, {'loss': -236.0, 'status': 'ok'}, {'loss': -176.0, 'status': 'ok'}, {'loss': -291.0, 'status': 'ok'}, {'loss': -259.0, 'status': 'ok'}, {'loss': -264.0, 'status': 'ok'}, {'loss': 301.0, 'status': 'ok'}, {'loss': 209.0, 'status': 'ok'}, {'loss': -200.0, 'status': 'ok'}, {'loss': -275.0, 'status': 'ok'}, {'loss': -20.0, 'status': 'ok'}, {'loss': 1.0, 'status': 'ok'}, {'loss': -251.0, 'status': 'ok'}, {'loss': -236.0, 'status': 'ok'}, {'loss': -139.0, 'status': 'ok'}, {'loss': -196.0, 'status': 'ok'}, {'loss': -279.0, 'status': 'ok'}, {'loss': 320.0, 'status': 'ok'}, {'loss': -219.0, 'status': 'ok'}, {'loss': -240.0, 'status': 'ok'}, {'loss': -284.0, 'status': 'ok'}, {'loss': -271.0, 'status': 'ok'}, {'loss': -256.0, 'status': 'ok'}, {'loss': -164.0, 'status': 'ok'}, {'loss': -219.0, 'status': 'ok'}, {'loss': -296.0, 'status': 'ok'}, {'loss': 29.0, 'status': 'ok'}, {'loss': -240.0, 'status': 'ok'}, {'loss': 81.0, 'status': 'ok'}, {'loss': -271.0, 'status': 'ok'}, {'loss': -235.0, 'status': 'ok'}, {'loss': -160.0, 'status': 'ok'}, {'loss': -196.0, 'status': 'ok'}, {'loss': -296.0, 'status': 'ok'}, {'loss': -115.0, 'status': 'ok'}, {'loss': -171.0, 'status': 'ok'}, {'loss': -279.0, 'status': 'ok'}, {'loss': -84.0, 'status': 'ok'}, {'loss': -104.0, 'status': 'ok'}, {'loss': -259.0, 'status': 'ok'}, {'loss': -216.0, 'status': 'ok'}, {'loss': -239.0, 'status': 'ok'}, {'loss': -300.0, 'status': 'ok'}, {'loss': -196.0, 'status': 'ok'}, {'loss': -291.0, 'status': 'ok'}, {'loss': -216.0, 'status': 'ok'}, {'loss': -239.0, 'status': 'ok'}, {'loss': 96.0, 'status': 'ok'}, {'loss': -251.0, 'status': 'ok'}, {'loss': -219.0, 'status': 'ok'}, {'loss': -59.0, 'status': 'ok'}, {'loss': -256.0, 'status': 'ok'}, {'loss': -296.0, 'status': 'ok'}, {'loss': 156.0, 'status': 'ok'}, {'loss': 296.0, 'status': 'ok'}, {'loss': -255.0, 'status': 'ok'}, {'loss': -80.0, 'status': 'ok'}, {'loss': -271.0, 'status': 'ok'}, {'loss': -180.0, 'status': 'ok'}, {'loss': 121.0, 'status': 'ok'}, {'loss': -224.0, 'status': 'ok'}, {'loss': -216.0, 'status': 'ok'}, {'loss': -159.0, 'status': 'ok'}, {'loss': -291.0, 'status': 'ok'}, {'loss': -151.0, 'status': 'ok'}, {'loss': -259.0, 'status': 'ok'}, {'loss': 280.0, 'status': 'ok'}, {'loss': -104.0, 'status': 'ok'}, {'loss': -276.0, 'status': 'ok'}, {'loss': -180.0, 'status': 'ok'}, {'loss': -219.0, 'status': 'ok'}, {'loss': -224.0, 'status': 'ok'}, {'loss': -31.0, 'status': 'ok'}, {'loss': -296.0, 'status': 'ok'}, {'loss': -259.0, 'status': 'ok'}, {'loss': -175.0, 'status': 'ok'}, {'loss': -236.0, 'status': 'ok'}, {'loss': -299.0, 'status': 'ok'}, {'loss': 180.0, 'status': 'ok'}, {'loss': -251.0, 'status': 'ok'}, {'loss': -279.0, 'status': 'ok'}, {'loss': -124.0, 'status': 'ok'}, {'loss': -139.0, 'status': 'ok'}, {'loss': -211.0, 'status': 'ok'}, {'loss': -96.0, 'status': 'ok'}, {'loss': 185.0, 'status': 'ok'}, {'loss': -176.0, 'status': 'ok'}, {'loss': -180.0, 'status': 'ok'}, {'loss': 40.0, 'status': 'ok'}, {'loss': 84.0, 'status': 'ok'}, {'loss': -284.0, 'status': 'ok'}, {'loss': -239.0, 'status': 'ok'}, {'loss': -259.0, 'status': 'ok'}, {'loss': -236.0, 'status': 'ok'}, {'loss': -151.0, 'status': 'ok'}, {'loss': 209.0, 'status': 'ok'}, {'loss': -280.0, 'status': 'ok'}, {'loss': -124.0, 'status': 'ok'}, {'loss': -251.0, 'status': 'ok'}, {'loss': -24.0, 'status': 'ok'}, {'loss': -219.0, 'status': 'ok'}, {'loss': -196.0, 'status': 'ok'}, {'loss': -159.0, 'status': 'ok'}, {'loss': -236.0, 'status': 'ok'}, {'loss': -280.0, 'status': 'ok'}, {'loss': -300.0, 'status': 'ok'}, {'loss': -279.0, 'status': 'ok'}, {'loss': -300.0, 'status': 'ok'}, {'loss': -299.0, 'status': 'ok'}, {'loss': -256.0, 'status': 'ok'}, {'loss': -280.0, 'status': 'ok'}, {'loss': -299.0, 'status': 'ok'}, {'loss': -299.0, 'status': 'ok'}, {'loss': -256.0, 'status': 'ok'}, {'loss': -280.0, 'status': 'ok'}, {'loss': -239.0, 'status': 'ok'}, {'loss': -299.0, 'status': 'ok'}, {'loss': -236.0, 'status': 'ok'}, {'loss': -260.0, 'status': 'ok'}, {'loss': -299.0, 'status': 'ok'}, {'loss': -216.0, 'status': 'ok'}, {'loss': -280.0, 'status': 'ok'}, {'loss': -259.0, 'status': 'ok'}, {'loss': -276.0, 'status': 'ok'}, {'loss': -231.0, 'status': 'ok'}, {'loss': -299.0, 'status': 'ok'}, {'loss': -211.0, 'status': 'ok'}, {'loss': -279.0, 'status': 'ok'}, {'loss': -256.0, 'status': 'ok'}, {'loss': -300.0, 'status': 'ok'}, {'loss': -239.0, 'status': 'ok'}, {'loss': -296.0, 'status': 'ok'}, {'loss': -219.0, 'status': 'ok'}, {'loss': 100.0, 'status': 'ok'}, {'loss': -276.0, 'status': 'ok'}, {'loss': -191.0, 'status': 'ok'}, {'loss': -256.0, 'status': 'ok'}, {'loss': -271.0, 'status': 'ok'}, {'loss': -239.0, 'status': 'ok'}, {'loss': -176.0, 'status': 'ok'}, {'loss': -259.0, 'status': 'ok'}, {'loss': -300.0, 'status': 'ok'}, {'loss': -220.0, 'status': 'ok'}, {'loss': -299.0, 'status': 'ok'}, {'loss': -251.0, 'status': 'ok'}, {'loss': -271.0, 'status': 'ok'}, {'loss': -216.0, 'status': 'ok'}, {'loss': -299.0, 'status': 'ok'}, {'loss': -239.0, 'status': 'ok'}, {'loss': -276.0, 'status': 'ok'}, {'loss': 0.0, 'status': 'ok'}, {'loss': -191.0, 'status': 'ok'}, {'loss': -244.0, 'status': 'ok'}, {'loss': -236.0, 'status': 'ok'}, {'loss': -179.0, 'status': 'ok'}, {'loss': -300.0, 'status': 'ok'}, {'loss': -300.0, 'status': 'ok'}, {'loss': -244.0, 'status': 'ok'}, {'loss': -279.0, 'status': 'ok'}, {'loss': 24.0, 'status': 'ok'}, {'loss': 241.0, 'status': 'ok'}, {'loss': -220.0, 'status': 'ok'}, {'loss': -239.0, 'status': 'ok'}, {'loss': -271.0, 'status': 'ok'}, {'loss': -196.0, 'status': 'ok'}, {'loss': -299.0, 'status': 'ok'}, {'loss': -256.0, 'status': 'ok'}, {'loss': -231.0, 'status': 'ok'}, {'loss': -291.0, 'status': 'ok'}, {'loss': -255.0, 'status': 'ok'}, {'loss': -24.0, 'status': 'ok'}, {'loss': -256.0, 'status': 'ok'}, {'loss': -220.0, 'status': 'ok'}, {'loss': -179.0, 'status': 'ok'}, {'loss': -196.0, 'status': 'ok'}, {'loss': -224.0, 'status': 'ok'}, {'loss': -251.0, 'status': 'ok'}, {'loss': -80.0, 'status': 'ok'}, {'loss': -159.0, 'status': 'ok'}, {'loss': -279.0, 'status': 'ok'}, {'loss': -16.0, 'status': 'ok'}, {'loss': -219.0, 'status': 'ok'}, {'loss': 185.0, 'status': 'ok'}, {'loss': -299.0, 'status': 'ok'}, {'loss': -300.0, 'status': 'ok'}, {'loss': -136.0, 'status': 'ok'}, {'loss': -279.0, 'status': 'ok'}, {'loss': -236.0, 'status': 'ok'}, {'loss': -251.0, 'status': 'ok'}, {'loss': 224.0, 'status': 'ok'}, {'loss': -191.0, 'status': 'ok'}, {'loss': 136.0, 'status': 'ok'}, {'loss': -264.0, 'status': 'ok'}, {'loss': -299.0, 'status': 'ok'}, {'loss': -179.0, 'status': 'ok'}, {'loss': -220.0, 'status': 'ok'}, {'loss': -259.0, 'status': 'ok'}, {'loss': -300.0, 'status': 'ok'}, {'loss': -236.0, 'status': 'ok'}, {'loss': -271.0, 'status': 'ok'}, {'loss': -199.0, 'status': 'ok'}, {'loss': -219.0, 'status': 'ok'}, {'loss': -116.0, 'status': 'ok'}, {'loss': -300.0, 'status': 'ok'}, {'loss': 60.0, 'status': 'ok'}, {'loss': -159.0, 'status': 'ok'}, {'loss': -256.0, 'status': 'ok'}, {'loss': -231.0, 'status': 'ok'}, {'loss': -264.0, 'status': 'ok'}, {'loss': -264.0, 'status': 'ok'}, {'loss': -251.0, 'status': 'ok'}, {'loss': -219.0, 'status': 'ok'}, {'loss': -75.0, 'status': 'ok'}, {'loss': -300.0, 'status': 'ok'}, {'loss': -236.0, 'status': 'ok'}, {'loss': -216.0, 'status': 'ok'}, {'loss': -279.0, 'status': 'ok'}, {'loss': -179.0, 'status': 'ok'}, {'loss': -259.0, 'status': 'ok'}, {'loss': -231.0, 'status': 'ok'}, {'loss': 304.0, 'status': 'ok'}, {'loss': -300.0, 'status': 'ok'}, {'loss': 284.0, 'status': 'ok'}, {'loss': -199.0, 'status': 'ok'}, {'loss': 5.0, 'status': 'ok'}, {'loss': -260.0, 'status': 'ok'}, {'loss': -299.0, 'status': 'ok'}, {'loss': -276.0, 'status': 'ok'}, {'loss': -279.0, 'status': 'ok'}, {'loss': -211.0, 'status': 'ok'}, {'loss': -239.0, 'status': 'ok'}, {'loss': -171.0, 'status': 'ok'}, {'loss': -300.0, 'status': 'ok'}, {'loss': -156.0, 'status': 'ok'}, {'loss': -200.0, 'status': 'ok'}, {'loss': 181.0, 'status': 'ok'}, {'loss': -244.0, 'status': 'ok'}, {'loss': -291.0, 'status': 'ok'}, {'loss': -136.0, 'status': 'ok'}, {'loss': -276.0, 'status': 'ok'}, {'loss': -236.0, 'status': 'ok'}, {'loss': -264.0, 'status': 'ok'}, {'loss': -59.0, 'status': 'ok'}, {'loss': -219.0, 'status': 'ok'}, {'loss': -235.0, 'status': 'ok'}, {'loss': -224.0, 'status': 'ok'}, {'loss': -111.0, 'status': 'ok'}, {'loss': -280.0, 'status': 'ok'}, {'loss': -259.0, 'status': 'ok'}, {'loss': -199.0, 'status': 'ok'}, {'loss': 140.0, 'status': 'ok'}, {'loss': -291.0, 'status': 'ok'}, {'loss': -216.0, 'status': 'ok'}, {'loss': -264.0, 'status': 'ok'}, {'loss': -176.0, 'status': 'ok'}, {'loss': -300.0, 'status': 'ok'}, {'loss': -199.0, 'status': 'ok'}, {'loss': -279.0, 'status': 'ok'}, {'loss': -256.0, 'status': 'ok'}, {'loss': -251.0, 'status': 'ok'}, {'loss': -144.0, 'status': 'ok'}, {'loss': -204.0, 'status': 'ok'}, {'loss': -236.0, 'status': 'ok'}, {'loss': -275.0, 'status': 'ok'}, {'loss': 41.0, 'status': 'ok'}, {'loss': -211.0, 'status': 'ok'}, {'loss': -279.0, 'status': 'ok'}, {'loss': -140.0, 'status': 'ok'}, {'loss': -256.0, 'status': 'ok'}, {'loss': -156.0, 'status': 'ok'}, {'loss': 269.0, 'status': 'ok'}, {'loss': -300.0, 'status': 'ok'}, {'loss': -279.0, 'status': 'ok'}, {'loss': -239.0, 'status': 'ok'}, {'loss': -171.0, 'status': 'ok'}, {'loss': -276.0, 'status': 'ok'}, {'loss': -184.0, 'status': 'ok'}, {'loss': -300.0, 'status': 'ok'}, {'loss': -299.0, 'status': 'ok'}, {'loss': -236.0, 'status': 'ok'}, {'loss': -259.0, 'status': 'ok'}, {'loss': -300.0, 'status': 'ok'}, {'loss': -199.0, 'status': 'ok'}, {'loss': -279.0, 'status': 'ok'}, {'loss': -300.0, 'status': 'ok'}, {'loss': -300.0, 'status': 'ok'}, {'loss': -299.0, 'status': 'ok'}, {'loss': -259.0, 'status': 'ok'}, {'loss': -280.0, 'status': 'ok'}, {'loss': -259.0, 'status': 'ok'}, {'loss': -300.0, 'status': 'ok'}, {'loss': -280.0, 'status': 'ok'}, {'loss': -259.0, 'status': 'ok'}, {'loss': -296.0, 'status': 'ok'}, {'loss': -299.0, 'status': 'ok'}, {'loss': -279.0, 'status': 'ok'}, {'loss': -236.0, 'status': 'ok'}, {'loss': -259.0, 'status': 'ok'}, {'loss': -276.0, 'status': 'ok'}, {'loss': -300.0, 'status': 'ok'}, {'loss': 80.0, 'status': 'ok'}, {'loss': -259.0, 'status': 'ok'}, {'loss': -239.0, 'status': 'ok'}, {'loss': -276.0, 'status': 'ok'}]\n"
     ]
    }
   ],
   "source": [
    "import numpy as np\n",
    "import pandas as pd\n",
    "from hyperopt import hp\n",
    "\n",
    "# 검색 공간 정의\n",
    "search_space = {\n",
    "    # 'x' 변수: -10에서 10 사이의 값을 1 간격으로 균등하게 선택\n",
    "    'x': hp.quniform('x', -10, 10, 1),\n",
    "    \n",
    "    # 'y' 변수: -15에서 15 사이의 값을 1 간격으로 균등하게 선택\n",
    "    'y': hp.quniform('y', -15, 15, 1)\n",
    "}\n",
    "\n",
    "from hyperopt import STATUS_OK\n",
    "\n",
    "# 목적 함수를 선언, 변수값과 변수 검색 공간을 가지는 딕셔너리를 인자로 받고, 특정 값을 반환\n",
    "def objective_func(search_space):\n",
    "    x=search_space['x']\n",
    "    y=search_space['y']\n",
    "    retval=x**2-20*y\n",
    "    \n",
    "    return retval\n",
    "\n",
    "from hyperopt import fmin,tpe,Trials\n",
    "#입력 결과값을 저장한 Trials 객체값 생성\n",
    "trial_val = Trials()\n",
    "\n",
    "# 목적 함수의 최솟값을 반환하는 최적 입력 변수값을 600번의 입력값 시도(max_evals=600)로 찾아냄\n",
    "best_01=fmin(\n",
    "    fn=objective_func\n",
    "    ,space=search_space\n",
    "    ,algo=tpe.suggest\n",
    "    ,max_evals=600\n",
    "    ,trials=trial_val\n",
    "    ,rstate=np.random.default_rng(seed=0)\n",
    ")\n",
    "\n",
    "print(f'best : {best_01}')\n",
    "print(trial_val.results)"
   ]
  },
  {
   "cell_type": "code",
   "execution_count": null,
   "metadata": {},
   "outputs": [],
   "source": []
  }
 ],
 "metadata": {
  "kernelspec": {
   "display_name": "pyml",
   "language": "python",
   "name": "python3"
  },
  "language_info": {
   "codemirror_mode": {
    "name": "ipython",
    "version": 3
   },
   "file_extension": ".py",
   "mimetype": "text/x-python",
   "name": "python",
   "nbconvert_exporter": "python",
   "pygments_lexer": "ipython3",
   "version": "3.10.16"
  }
 },
 "nbformat": 4,
 "nbformat_minor": 2
}
